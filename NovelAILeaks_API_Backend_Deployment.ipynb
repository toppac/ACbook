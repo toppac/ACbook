{
  "cells": [
    {
      "cell_type": "markdown",
      "metadata": {
        "id": "view-in-github",
        "colab_type": "text"
      },
      "source": [
        "<a href=\"https://colab.research.google.com/github/toppac/ACbook/blob/master/NovelAILeaks_API_Backend_Deployment.ipynb\" target=\"_parent\"><img src=\"https://colab.research.google.com/assets/colab-badge.svg\" alt=\"Open In Colab\"/></a>"
      ]
    },
    {
      "cell_type": "markdown",
      "metadata": {
        "id": "UZYO74EYIH-j"
      },
      "source": [
        "基于 NovelAILeaks 制作。\n",
        "\n",
        "Credit: https://t.me/StableDiffusion_CN https://t.me/exlolicon\n",
        "\n",
        "Thanks: 炼铜术士, 神楽坂早苗️, Jonathan, 咕 咕, 猫又逆变器, Gaein nidb\n",
        "\n",
        "注意：该 notebook 会耗尽几乎所有 Colab GPU 资源，不建议频繁使用。\n",
        "\n"
      ]
    },
    {
      "cell_type": "markdown",
      "metadata": {
        "id": "F0EINk5M0s-w"
      },
      "source": [
        "1. 下载 Novel AI API 后端、模型 （如果下载速度太慢可尝试 restart）"
      ]
    },
    {
      "cell_type": "code",
      "execution_count": null,
      "metadata": {
        "colab": {
          "base_uri": "https://localhost:8080/"
        },
        "id": "ZzRNMT42Gw_p",
        "outputId": "951773ab-3b00-4795-e53f-f81fd815ee24"
      },
      "outputs": [
        {
          "output_type": "stream",
          "name": "stdout",
          "text": [
            "/content\n",
            "zstd is already the newest version (1.3.3+dfsg-2ubuntu1.2).\n",
            "The following package was automatically installed and is no longer required:\n",
            "  libnvidia-common-460\n",
            "Use 'apt autoremove' to remove it.\n",
            "0 upgraded, 0 newly installed, 0 to remove and 12 not upgraded.\n",
            "  % Total    % Received % Xferd  Average Speed   Time    Time     Time  Current\n",
            "                                 Dload  Upload   Total   Spent    Left  Speed\n",
            "100  270M  100  270M    0     0   106M      0  0:00:02  0:00:02 --:--:--  106M\n",
            "  % Total    % Received % Xferd  Average Speed   Time    Time     Time  Current\n",
            "                                 Dload  Upload   Total   Spent    Left  Speed\n",
            "100  920M  100  920M    0     0  98.6M      0  0:00:09  0:00:09 --:--:--  104M\n",
            "  % Total    % Received % Xferd  Average Speed   Time    Time     Time  Current\n",
            "                                 Dload  Upload   Total   Spent    Left  Speed\n",
            "100  784M  100  784M    0     0   106M      0  0:00:07  0:00:07 --:--:--  109M\n",
            "  % Total    % Received % Xferd  Average Speed   Time    Time     Time  Current\n",
            "                                 Dload  Upload   Total   Spent    Left  Speed\n",
            "100 6701M  100 6701M    0     0  79.9M      0  0:01:23  0:01:23 --:--:-- 20.0M\n"
          ]
        }
      ],
      "source": [
        "%cd /content\n",
        "!apt install -y -qq zstd\n",
        "!curl -L https://cloudflare-ipfs.com/ipfs/bafybeiagafvge2siezdmkhiwrlj7obtjy6i3x7rbbaovw3247uk6xcob2e/sd-private.tar.zst | zstdcat | tar xf -\n",
        "!curl -L https://cloudflare-ipfs.com/ipfs/bafybeidcibcsoso3ez453fnajqj7x5forntk6rkglvpp33h5pzsopdvwgq/modules.tar.zst | zstdcat | tar xf -\n",
        "!curl -LO https://cloudflare-ipfs.com/ipfs/bafybeiccldswdd3wvg57jhclcq53lvsc6gizasiblwayvhlv6eq4wow7wu/animevae.pt \n",
        "!curl -L https://cloudflare-ipfs.com/ipfs/bafybeibhlcqjgvjtc3ck2bcazae5yizaetm7y7nm5rux674gsxgd4l5uce/animefull-latest.tar.zst | zstdcat | tar xf -\n"
      ]
    },
    {
      "cell_type": "markdown",
      "metadata": {
        "id": "6f97A6mFw4Ao"
      },
      "source": [
        "2. 安装相关 package"
      ]
    },
    {
      "cell_type": "code",
      "execution_count": null,
      "metadata": {
        "id": "rxcn4tlyw3aF"
      },
      "outputs": [],
      "source": [
        "%cd /content\n",
        "!pip install -U pip\n",
        "!pip install dotmap icecream sentry-sdk numpy fastapi \"uvicorn[standard]\" gunicorn omegaconf transformers einops \\\n",
        "    pytorch_lightning simplejpeg min-dalle faiss-cpu sentence_transformers\n",
        "!pip install -e \"git+https://github.com/CompVis/taming-transformers.git#egg=taming-transformers\" "
      ]
    },
    {
      "cell_type": "markdown",
      "metadata": {
        "id": "yYEYZo-rJEkh"
      },
      "source": [
        "3. 安装 Novel AI 私有 package （参阅注释，约耗时30分钟）"
      ]
    },
    {
      "cell_type": "code",
      "execution_count": null,
      "metadata": {
        "id": "KxBVe2HwJD8q"
      },
      "outputs": [],
      "source": [
        "%cd /content\n",
        "!pip install -e /content/sd-private/hydra-node-http/stable-diffusion-private/\n",
        "!pip install https://github.com/NovelAI/k-diffusion-multigen/archive/457560c53c344b16cf3dda5eb0ba44d83e0b7c46.zip \n",
        "!pip install https://cloudflare-ipfs.com/ipfs/bafybeie5l2n7lyohudu2cu77uiv3pwjx6pwokaqszte7eg6qaz2hndfeiu/basedformer.tar \n",
        "!wget https://cloudflare-ipfs.com/ipfs/bafybeihrsvfo3oaldpcixzr5ds7rpu3gxguqhpifgbo53snborvdxyyb2i/xformers.zip \n",
        "!unzip xformers.zip\n",
        "\n",
        "# 请根据 GPU 型号调整 TORCH_CUDA_ARCH_LIST，对应关系见\n",
        "# https://arnon.dk/matching-sm-architectures-arch-and-gencode-for-various-nvidia-cards/\n",
        "!cd xformers && env TORCH_CUDA_ARCH_LIST=7.5 python3 setup.py develop\n",
        "!pip install -U --pre triton"
      ]
    },
    {
      "cell_type": "markdown",
      "metadata": {
        "id": "fhcyjPsLJ3qa"
      },
      "source": [
        "4. 安装 bore 反向代理"
      ]
    },
    {
      "cell_type": "code",
      "execution_count": null,
      "metadata": {
        "id": "3_tpWwp6J19E"
      },
      "outputs": [],
      "source": [
        "%cd /content\n",
        "!curl -Ls https://github.com/ekzhang/bore/releases/download/v0.4.0/bore-v0.4.0-x86_64-unknown-linux-musl.tar.gz | tar zx -C /usr/bin"
      ]
    },
    {
      "cell_type": "markdown",
      "metadata": {
        "id": "aF6kDbZrKnqD"
      },
      "source": [
        "5. 魔改一下"
      ]
    },
    {
      "cell_type": "code",
      "execution_count": null,
      "metadata": {
        "id": "RXkNf4hQKmMS"
      },
      "outputs": [],
      "source": [
        "%cd /content\n",
        "!curl https://cloudflare-ipfs.com/ipfs/bafybeihqkt6hv454cry6lznz7hgn77zrjytibliqzwshlawvpkxxce2miq/hydra.tar | tar x -C /content/sd-private/hydra-node-http/hydra_node\n",
        "\n",
        "# python3.7 backport\n",
        "!python -m pip install git+https://github.com/pybpc/walrus\n",
        "!python -m walrus /content/sd-private/hydra-node-http"
      ]
    },
    {
      "cell_type": "markdown",
      "metadata": {
        "id": "l3kee4TPhSlo"
      },
      "source": [
        "6.  配置一个简单的前端，注意记录输出的映射地址"
      ]
    },
    {
      "cell_type": "code",
      "execution_count": null,
      "metadata": {
        "id": "TDaSWipYhEGe"
      },
      "outputs": [],
      "source": [
        "%cd /content\n",
        "!git clone https://github.com/nidbCN/novelai-sample\n",
        "\n",
        "%cd /content/novelai-sample\n",
        "!curl -Lo vue.config.js https://cloudflare-ipfs.com/ipfs/bafybeiaendc4ugufj6t6sgvoht27h3p46e4go4azn5igzds5l2xzjbl7g4/vue.config.js\n",
        "!npm i\n",
        "!nohup npm run serve &\n",
        "!nohup bore local 8081 --to bore.pub &\n",
        "!sleep 2\n",
        "!tail nohup.out"
      ]
    },
    {
      "cell_type": "markdown",
      "metadata": {
        "id": "xt8lbdmC04ox"
      },
      "source": [
        "7. 启动官方后端并使用 bore.pub 映射出来，注意记录输出的映射地址"
      ]
    },
    {
      "cell_type": "code",
      "execution_count": null,
      "metadata": {
        "id": "R-xAdMA5wxXd"
      },
      "outputs": [],
      "source": [
        "%cd /content/sd-private/hydra-node-http/\n",
        "\n",
        "%env DTYPE=float16\n",
        "%env AMP=1\n",
        "%env MODEL=stable-diffusion\n",
        "%env DEV=True\n",
        "%env MODEL_PATH=/content/animefull-latest\n",
        "%env MODULE_PATH=/content/modules/modules\n",
        "%env TRANSFORMERS_CACHE=/content/transformer_cache\n",
        "%env SENTRY_URL=\n",
        "%env ENABLE_EMA=1\n",
        "%env VAE_PATH=/content/animevae.pt\n",
        "%env BASEDFORMER=1\n",
        "%env PENULTIMATE=1\n",
        "\n",
        "# start cf-argo-tunnel (optional)\n",
        "# !wget https://github.com/cloudflare/cloudflared/releases/latest/download/cloudflared-linux-amd64 && chmod +x cloudflared-linux-amd64\n",
        "# !nohup ./cloudflared-linux-amd64 tunnel --url localhost:1830 &\n",
        "# !sleep 10 && cat nohup.out\n",
        "\n",
        "!gunicorn main:app --workers 1 --worker-class uvicorn.workers.UvicornWorker --bind 0.0.0.0:80 --timeout 0 --keep-alive 60 --log-level=debug & bore local 80 --to bore.pub"
      ]
    },
    {
      "cell_type": "markdown",
      "source": [
        "8. 使用方法\n",
        "\n",
        "* 如果前端能够正常使用：使用前端 \n",
        "* 如果本地有部署好的前端：使用本地前端 (github.com/nidbCN/novelai-sample)\n",
        "* 如果前端不能正常使用：编写如下的脚本文件并运行，endpoint 填入第八步的 bore.pub:xxxx 地址\n",
        "\n",
        "```python\n",
        "import requests\n",
        "import json\n",
        "import base64\n",
        "import random\n",
        "\n",
        "endpoint = \"http://bore.pub:xxxxx/generate\"\n",
        "\n",
        "data = {\n",
        "  \"prompt\": \"masterpiece, best quality, brown red hair,blue eyes,twin tails,holding cat\", \n",
        "  \"seed\": random.randint(0, 2**32),\n",
        "  \"n_samples\":1,\n",
        "  \"sampler\":\"ddim\",\n",
        "  \"width\":512,\n",
        "  \"height\":768,\n",
        "  \"scale\":11,\n",
        "  \"steps\":28,\n",
        "  \"uc\":\"lowres, bad anatomy, bad hands, text, error, missing fingers, extra digit, fewer digits, cropped, worst quality, low quality, normal quality, jpeg artifacts, signature, watermark, username, blurry\"\n",
        "}\n",
        "\n",
        "req = requests.post(endpoint, json=data).json()\n",
        "output = req[\"output\"]\n",
        "for x in output:\n",
        "  img = base64.b64decode(x)\n",
        "  with open(\"output-\" + str(output.index(x)) + \".png\", \"wb\") as f:\n",
        "    f.write(img)\n",
        "```\n",
        "\n",
        "prompt中masterpiece, best quality, 开头对应原版web Add Quality Tags选项，不建议删除，后面直接跟自己prompt即可\n",
        "\n",
        "uc部分对应web Undesired Content，建议保留默认\n",
        "\n",
        "sampler是采样方法，可选plms/ddim/k_euler/k_euler_ancestral/k_heun/k_dpm_2/k_dpm_2_ancestral/k_lms\n",
        "\n",
        "seed是种子，自己随机一个整数数字，不然一直会出一样的结果。\n",
        "\n",
        "n_samples代表要生成几张图片"
      ],
      "metadata": {
        "id": "HPG2JS9lIxyG"
      }
    }
  ],
  "metadata": {
    "colab": {
      "collapsed_sections": [],
      "provenance": [],
      "include_colab_link": true
    },
    "gpuClass": "standard",
    "kernelspec": {
      "display_name": "Python 3",
      "name": "python3"
    },
    "language_info": {
      "name": "python"
    }
  },
  "nbformat": 4,
  "nbformat_minor": 0
}